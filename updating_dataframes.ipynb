{
 "cells": [
  {
   "cell_type": "markdown",
   "id": "4b5df27e-6a6f-4607-b2a5-2c95da83aca7",
   "metadata": {},
   "source": [
    "# Data:Palmer Penguins"
   ]
  },
  {
   "cell_type": "code",
   "execution_count": 1,
   "id": "2062e3dc-842f-435d-9edb-ef41721eb6e5",
   "metadata": {
    "tags": []
   },
   "outputs": [],
   "source": [
    "#standard libraries\n",
    "import pandas as pd\n",
    "import numpy as np\n",
    "\n",
    "#import seaborn with its standard abbreviation\n",
    "import seaborn as sns\n",
    "\n",
    "#will use the random library to create some random numbers\n",
    "import random"
   ]
  },
  {
   "cell_type": "code",
   "execution_count": 3,
   "id": "7addb13a-cd5b-40f6-b10d-c7580615ca0c",
   "metadata": {
    "tags": []
   },
   "outputs": [
    {
     "data": {
      "text/html": [
       "<div>\n",
       "<style scoped>\n",
       "    .dataframe tbody tr th:only-of-type {\n",
       "        vertical-align: middle;\n",
       "    }\n",
       "\n",
       "    .dataframe tbody tr th {\n",
       "        vertical-align: top;\n",
       "    }\n",
       "\n",
       "    .dataframe thead th {\n",
       "        text-align: right;\n",
       "    }\n",
       "</style>\n",
       "<table border=\"1\" class=\"dataframe\">\n",
       "  <thead>\n",
       "    <tr style=\"text-align: right;\">\n",
       "      <th></th>\n",
       "      <th>species</th>\n",
       "      <th>island</th>\n",
       "      <th>bill_length_mm</th>\n",
       "      <th>bill_depth_mm</th>\n",
       "      <th>flipper_length_mm</th>\n",
       "      <th>body_mass_g</th>\n",
       "      <th>sex</th>\n",
       "    </tr>\n",
       "  </thead>\n",
       "  <tbody>\n",
       "    <tr>\n",
       "      <th>0</th>\n",
       "      <td>Adelie</td>\n",
       "      <td>Torgersen</td>\n",
       "      <td>39.1</td>\n",
       "      <td>18.7</td>\n",
       "      <td>181.0</td>\n",
       "      <td>3750.0</td>\n",
       "      <td>Male</td>\n",
       "    </tr>\n",
       "    <tr>\n",
       "      <th>1</th>\n",
       "      <td>Adelie</td>\n",
       "      <td>Torgersen</td>\n",
       "      <td>39.5</td>\n",
       "      <td>17.4</td>\n",
       "      <td>186.0</td>\n",
       "      <td>3800.0</td>\n",
       "      <td>Female</td>\n",
       "    </tr>\n",
       "    <tr>\n",
       "      <th>2</th>\n",
       "      <td>Adelie</td>\n",
       "      <td>Torgersen</td>\n",
       "      <td>40.3</td>\n",
       "      <td>18.0</td>\n",
       "      <td>195.0</td>\n",
       "      <td>3250.0</td>\n",
       "      <td>Female</td>\n",
       "    </tr>\n",
       "    <tr>\n",
       "      <th>3</th>\n",
       "      <td>Adelie</td>\n",
       "      <td>Torgersen</td>\n",
       "      <td>NaN</td>\n",
       "      <td>NaN</td>\n",
       "      <td>NaN</td>\n",
       "      <td>NaN</td>\n",
       "      <td>NaN</td>\n",
       "    </tr>\n",
       "    <tr>\n",
       "      <th>4</th>\n",
       "      <td>Adelie</td>\n",
       "      <td>Torgersen</td>\n",
       "      <td>36.7</td>\n",
       "      <td>19.3</td>\n",
       "      <td>193.0</td>\n",
       "      <td>3450.0</td>\n",
       "      <td>Female</td>\n",
       "    </tr>\n",
       "  </tbody>\n",
       "</table>\n",
       "</div>"
      ],
      "text/plain": [
       "  species     island  bill_length_mm  bill_depth_mm  flipper_length_mm  \\\n",
       "0  Adelie  Torgersen            39.1           18.7              181.0   \n",
       "1  Adelie  Torgersen            39.5           17.4              186.0   \n",
       "2  Adelie  Torgersen            40.3           18.0              195.0   \n",
       "3  Adelie  Torgersen             NaN            NaN                NaN   \n",
       "4  Adelie  Torgersen            36.7           19.3              193.0   \n",
       "\n",
       "   body_mass_g     sex  \n",
       "0       3750.0    Male  \n",
       "1       3800.0  Female  \n",
       "2       3250.0  Female  \n",
       "3          NaN     NaN  \n",
       "4       3450.0  Female  "
      ]
     },
     "execution_count": 3,
     "metadata": {},
     "output_type": "execute_result"
    }
   ],
   "source": [
    "#import penguins dataset\n",
    "penguins = sns.load_dataset(\"penguins\")\n",
    "\n",
    "# look at dataframe's head\n",
    "penguins.head()"
   ]
  },
  {
   "cell_type": "markdown",
   "id": "12f2bfc9-c822-4074-8a78-89ffd57b5bac",
   "metadata": {},
   "source": [
    "## Adding a column\n",
    "\n",
    "General syntax to add a single columns is\n",
    "```\n",
    "df['new_col_name'] = new_column_values\n",
    "```\n",
    "\n",
    "`new_column_values` could be:\n",
    "\n",
    "- a `pd.Series` or `numpy.array` of the same length as the data frame\n",
    "- a single scalar (a single number, a single string)\n",
    "\n",
    "**Example**\n",
    "\n",
    "Want to create a new column where the body mass is in kg instead of grams"
   ]
  },
  {
   "cell_type": "code",
   "execution_count": 4,
   "id": "dfdf8ad0-df3b-460f-b684-5de95bbac3ca",
   "metadata": {
    "tags": []
   },
   "outputs": [
    {
     "name": "stdout",
     "output_type": "stream",
     "text": [
      "True\n"
     ]
    },
    {
     "data": {
      "text/html": [
       "<div>\n",
       "<style scoped>\n",
       "    .dataframe tbody tr th:only-of-type {\n",
       "        vertical-align: middle;\n",
       "    }\n",
       "\n",
       "    .dataframe tbody tr th {\n",
       "        vertical-align: top;\n",
       "    }\n",
       "\n",
       "    .dataframe thead th {\n",
       "        text-align: right;\n",
       "    }\n",
       "</style>\n",
       "<table border=\"1\" class=\"dataframe\">\n",
       "  <thead>\n",
       "    <tr style=\"text-align: right;\">\n",
       "      <th></th>\n",
       "      <th>species</th>\n",
       "      <th>island</th>\n",
       "      <th>bill_length_mm</th>\n",
       "      <th>bill_depth_mm</th>\n",
       "      <th>flipper_length_mm</th>\n",
       "      <th>body_mass_g</th>\n",
       "      <th>sex</th>\n",
       "      <th>body_mass_kg</th>\n",
       "    </tr>\n",
       "  </thead>\n",
       "  <tbody>\n",
       "    <tr>\n",
       "      <th>0</th>\n",
       "      <td>Adelie</td>\n",
       "      <td>Torgersen</td>\n",
       "      <td>39.1</td>\n",
       "      <td>18.7</td>\n",
       "      <td>181.0</td>\n",
       "      <td>3750.0</td>\n",
       "      <td>Male</td>\n",
       "      <td>3.75</td>\n",
       "    </tr>\n",
       "    <tr>\n",
       "      <th>1</th>\n",
       "      <td>Adelie</td>\n",
       "      <td>Torgersen</td>\n",
       "      <td>39.5</td>\n",
       "      <td>17.4</td>\n",
       "      <td>186.0</td>\n",
       "      <td>3800.0</td>\n",
       "      <td>Female</td>\n",
       "      <td>3.80</td>\n",
       "    </tr>\n",
       "    <tr>\n",
       "      <th>2</th>\n",
       "      <td>Adelie</td>\n",
       "      <td>Torgersen</td>\n",
       "      <td>40.3</td>\n",
       "      <td>18.0</td>\n",
       "      <td>195.0</td>\n",
       "      <td>3250.0</td>\n",
       "      <td>Female</td>\n",
       "      <td>3.25</td>\n",
       "    </tr>\n",
       "    <tr>\n",
       "      <th>3</th>\n",
       "      <td>Adelie</td>\n",
       "      <td>Torgersen</td>\n",
       "      <td>NaN</td>\n",
       "      <td>NaN</td>\n",
       "      <td>NaN</td>\n",
       "      <td>NaN</td>\n",
       "      <td>NaN</td>\n",
       "      <td>NaN</td>\n",
       "    </tr>\n",
       "    <tr>\n",
       "      <th>4</th>\n",
       "      <td>Adelie</td>\n",
       "      <td>Torgersen</td>\n",
       "      <td>36.7</td>\n",
       "      <td>19.3</td>\n",
       "      <td>193.0</td>\n",
       "      <td>3450.0</td>\n",
       "      <td>Female</td>\n",
       "      <td>3.45</td>\n",
       "    </tr>\n",
       "  </tbody>\n",
       "</table>\n",
       "</div>"
      ],
      "text/plain": [
       "  species     island  bill_length_mm  bill_depth_mm  flipper_length_mm  \\\n",
       "0  Adelie  Torgersen            39.1           18.7              181.0   \n",
       "1  Adelie  Torgersen            39.5           17.4              186.0   \n",
       "2  Adelie  Torgersen            40.3           18.0              195.0   \n",
       "3  Adelie  Torgersen             NaN            NaN                NaN   \n",
       "4  Adelie  Torgersen            36.7           19.3              193.0   \n",
       "\n",
       "   body_mass_g     sex  body_mass_kg  \n",
       "0       3750.0    Male          3.75  \n",
       "1       3800.0  Female          3.80  \n",
       "2       3250.0  Female          3.25  \n",
       "3          NaN     NaN           NaN  \n",
       "4       3450.0  Female          3.45  "
      ]
     },
     "execution_count": 4,
     "metadata": {},
     "output_type": "execute_result"
    }
   ],
   "source": [
    "# add a new column body_mass_kg \n",
    "# sane syntax as adding a new key to a dictionary\n",
    "penguins['body_mass_kg'] = penguins.body_mass_g/1000 #dividing by 1000 to convert from g to kg\n",
    "\n",
    "# confirm the new column is in the data frame\n",
    "print('body_mass_kg' in penguins.columns)\n",
    "\n",
    "# take a look at the new column\n",
    "penguins.head()"
   ]
  },
  {
   "cell_type": "markdown",
   "id": "3c79d422-daf5-485b-8cc6-18f7b561f95a",
   "metadata": {},
   "source": [
    "To create a new column and inset it at a particular position we use `insert()`:\n",
    "```\n",
    "df.insert(loc = integers_index,\n",
    "          column = 'new_column_name',\n",
    "          value = new_col_values) #location of new column\n",
    "```\n",
    "Example:\n",
    "Suppose each penguins gets a unique code as a three digit number. Add this column at the beginning of the data frame:"
   ]
  },
  {
   "cell_type": "code",
   "execution_count": 6,
   "id": "2459fe98-cf5e-4371-a55d-0cae8ee56d2e",
   "metadata": {
    "tags": []
   },
   "outputs": [],
   "source": [
    "# create random 3-digit codes\n",
    "# random.sample used for random sampling wo replacement\n",
    "codes = random.sample(range(100,1000), len(penguins))\n",
    "\n",
    "# insert codes at the front of data frame = index 0\n",
    "penguins.insert(loc=0, \n",
    "                column = 'code',\n",
    "                value = codes)"
   ]
  },
  {
   "cell_type": "code",
   "execution_count": 7,
   "id": "5ff3784a-fc0a-4ce1-908d-44fabaf007ae",
   "metadata": {
    "tags": []
   },
   "outputs": [
    {
     "data": {
      "text/html": [
       "<div>\n",
       "<style scoped>\n",
       "    .dataframe tbody tr th:only-of-type {\n",
       "        vertical-align: middle;\n",
       "    }\n",
       "\n",
       "    .dataframe tbody tr th {\n",
       "        vertical-align: top;\n",
       "    }\n",
       "\n",
       "    .dataframe thead th {\n",
       "        text-align: right;\n",
       "    }\n",
       "</style>\n",
       "<table border=\"1\" class=\"dataframe\">\n",
       "  <thead>\n",
       "    <tr style=\"text-align: right;\">\n",
       "      <th></th>\n",
       "      <th>code</th>\n",
       "      <th>species</th>\n",
       "      <th>island</th>\n",
       "      <th>bill_length_mm</th>\n",
       "      <th>bill_depth_mm</th>\n",
       "      <th>flipper_length_mm</th>\n",
       "      <th>body_mass_g</th>\n",
       "      <th>sex</th>\n",
       "      <th>body_mass_kg</th>\n",
       "    </tr>\n",
       "  </thead>\n",
       "  <tbody>\n",
       "    <tr>\n",
       "      <th>0</th>\n",
       "      <td>171</td>\n",
       "      <td>Adelie</td>\n",
       "      <td>Torgersen</td>\n",
       "      <td>39.1</td>\n",
       "      <td>18.7</td>\n",
       "      <td>181.0</td>\n",
       "      <td>3750.0</td>\n",
       "      <td>Male</td>\n",
       "      <td>3.75</td>\n",
       "    </tr>\n",
       "    <tr>\n",
       "      <th>1</th>\n",
       "      <td>586</td>\n",
       "      <td>Adelie</td>\n",
       "      <td>Torgersen</td>\n",
       "      <td>39.5</td>\n",
       "      <td>17.4</td>\n",
       "      <td>186.0</td>\n",
       "      <td>3800.0</td>\n",
       "      <td>Female</td>\n",
       "      <td>3.80</td>\n",
       "    </tr>\n",
       "    <tr>\n",
       "      <th>2</th>\n",
       "      <td>804</td>\n",
       "      <td>Adelie</td>\n",
       "      <td>Torgersen</td>\n",
       "      <td>40.3</td>\n",
       "      <td>18.0</td>\n",
       "      <td>195.0</td>\n",
       "      <td>3250.0</td>\n",
       "      <td>Female</td>\n",
       "      <td>3.25</td>\n",
       "    </tr>\n",
       "    <tr>\n",
       "      <th>3</th>\n",
       "      <td>521</td>\n",
       "      <td>Adelie</td>\n",
       "      <td>Torgersen</td>\n",
       "      <td>NaN</td>\n",
       "      <td>NaN</td>\n",
       "      <td>NaN</td>\n",
       "      <td>NaN</td>\n",
       "      <td>NaN</td>\n",
       "      <td>NaN</td>\n",
       "    </tr>\n",
       "    <tr>\n",
       "      <th>4</th>\n",
       "      <td>143</td>\n",
       "      <td>Adelie</td>\n",
       "      <td>Torgersen</td>\n",
       "      <td>36.7</td>\n",
       "      <td>19.3</td>\n",
       "      <td>193.0</td>\n",
       "      <td>3450.0</td>\n",
       "      <td>Female</td>\n",
       "      <td>3.45</td>\n",
       "    </tr>\n",
       "  </tbody>\n",
       "</table>\n",
       "</div>"
      ],
      "text/plain": [
       "   code species     island  bill_length_mm  bill_depth_mm  flipper_length_mm  \\\n",
       "0   171  Adelie  Torgersen            39.1           18.7              181.0   \n",
       "1   586  Adelie  Torgersen            39.5           17.4              186.0   \n",
       "2   804  Adelie  Torgersen            40.3           18.0              195.0   \n",
       "3   521  Adelie  Torgersen             NaN            NaN                NaN   \n",
       "4   143  Adelie  Torgersen            36.7           19.3              193.0   \n",
       "\n",
       "   body_mass_g     sex  body_mass_kg  \n",
       "0       3750.0    Male          3.75  \n",
       "1       3800.0  Female          3.80  \n",
       "2       3250.0  Female          3.25  \n",
       "3          NaN     NaN           NaN  \n",
       "4       3450.0  Female          3.45  "
      ]
     },
     "execution_count": 7,
     "metadata": {},
     "output_type": "execute_result"
    }
   ],
   "source": [
    "penguins.head()"
   ]
  },
  {
   "cell_type": "markdown",
   "id": "7370fcc8-6c34-4547-8be6-6d0a41286e78",
   "metadata": {},
   "source": [
    "## Adding multiple columns\n",
    "\n",
    "We can assing multiple oclumns in the same call using `assign()` method.\n",
    "Syntax:\n",
    "```\n",
    "df.assign( new_col1_name = new_col1_values, \n",
    "           new_col2_name = new_col2_values)\n",
    "```\n",
    "Notice: new column names are not strings, we declare them as if we were creating variables\n",
    "\n",
    "Example: Add columns:\n",
    "\n",
    "- flipper length converted from mm to cm, and\n",
    "- a code representing the observer"
   ]
  },
  {
   "cell_type": "code",
   "execution_count": 32,
   "id": "d80ee91c-3a11-47fd-9e46-7a6e1a767087",
   "metadata": {
    "tags": []
   },
   "outputs": [
    {
     "ename": "TypeError",
     "evalue": "choice() got an unexpected keyword argument 'k'",
     "output_type": "error",
     "traceback": [
      "\u001b[0;31m---------------------------------------------------------------------------\u001b[0m",
      "\u001b[0;31mTypeError\u001b[0m                                 Traceback (most recent call last)",
      "\u001b[0;32m/tmp/ipykernel_9244/4240298543.py\u001b[0m in \u001b[0;36m<module>\u001b[0;34m\u001b[0m\n\u001b[1;32m      1\u001b[0m \u001b[0;31m#create codes from observers\u001b[0m\u001b[0;34m\u001b[0m\u001b[0;34m\u001b[0m\u001b[0m\n\u001b[0;32m----> 2\u001b[0;31m observers = random.choice(['A', 'B', 'C'], #sample from this array\n\u001b[0m\u001b[1;32m      3\u001b[0m                           k = len(penguins)) #get this/these many items\n\u001b[1;32m      4\u001b[0m \u001b[0;34m\u001b[0m\u001b[0m\n\u001b[1;32m      5\u001b[0m \u001b[0;31m# create new columns in the data frame\u001b[0m\u001b[0;34m\u001b[0m\u001b[0;34m\u001b[0m\u001b[0m\n",
      "\u001b[0;31mTypeError\u001b[0m: choice() got an unexpected keyword argument 'k'"
     ]
    }
   ],
   "source": [
    "#create codes from observers\n",
    "observers = random.choice(['A', 'B', 'C'], #sample from this array\n",
    "                          k = len(penguins)) #get this/these many items\n",
    "\n",
    "# create new columns in the data frame\n",
    "# random.choices used for random sampling with replacement\n",
    "# need to reassign output of assign() to update the data frame\n",
    "penguins = penguins.assign( flipper_length_cm = penguins.flipper_length_mm /10, \n",
    "                            observer =   random.choices(['A','B','C'], k=len(penguins)))\n",
    "# look at result\n",
    "penguins.head()"
   ]
  },
  {
   "cell_type": "markdown",
   "id": "48358596-a4c2-451b-ab70-0996f73968cf",
   "metadata": {},
   "source": [
    "## Removing columns\n",
    "\n",
    "We can remove columns using the `drop()` method. Syntax:\n",
    "```\n",
    "df = df.drop(columns = col_names)\n",
    "```\n",
    "where `col_names` can be a single column name (str) or a list of column names.\n",
    "\n",
    "Example\n",
    "\n",
    "We want to drop the flipper length in mm and the body mass in grams"
   ]
  },
  {
   "cell_type": "code",
   "execution_count": 9,
   "id": "8ce82e02-8673-4dae-902d-cc5488b826fe",
   "metadata": {
    "tags": []
   },
   "outputs": [
    {
     "name": "stdout",
     "output_type": "stream",
     "text": [
      "Index(['code', 'species', 'island', 'bill_length_mm', 'bill_depth_mm', 'sex',\n",
      "       'body_mass_kg'],\n",
      "      dtype='object')\n"
     ]
    }
   ],
   "source": [
    "# use a list of column names\n",
    "# reassign output of drop() to dataframe to update it\n",
    "penguins = penguins.drop(columns=['flipper_length_mm','body_mass_g'])\n",
    "\n",
    "# check columns\n",
    "print(penguins.columns)"
   ]
  },
  {
   "cell_type": "markdown",
   "id": "49a189ea-46e5-4fa8-98a6-5c580734ef73",
   "metadata": {},
   "source": [
    "## Updating values\n",
    "\n",
    "Sometimes we want to update certain values in our data frams.\n",
    "\n",
    "### A single value\n",
    "We can access a single value in a `pd.DataFrame` using the locators:\n",
    "\n",
    "- `at[]` :to select by labels\n",
    "- `iat[]`: to select by integer index/position\n",
    "\n",
    "Syntax for `at[]`:\n",
    "```\n",
    "df.at[single_index_value, 'column_name']\n",
    "```\n",
    "`at[]` equivalent to `loc[]` when accessing a single value\n",
    "\n",
    "Example\n",
    "Want to know the bill length of the penguin in the fourth row."
   ]
  },
  {
   "cell_type": "code",
   "execution_count": 11,
   "id": "239d8447-3412-4189-8483-6807cd5b0dbe",
   "metadata": {
    "tags": []
   },
   "outputs": [
    {
     "data": {
      "text/plain": [
       "nan"
      ]
     },
     "execution_count": 11,
     "metadata": {},
     "output_type": "execute_result"
    }
   ],
   "source": [
    "# access value at row with index=3 and column='bill_length_mm'\n",
    "penguins.at[3,'bill_length_mm']"
   ]
  },
  {
   "cell_type": "markdown",
   "id": "54c8304b-a35a-484e-9603-b898f28c1fca",
   "metadata": {},
   "source": [
    "We got an NA. Let's update to 38.3 mm. We do this using `at[]` to:"
   ]
  },
  {
   "cell_type": "code",
   "execution_count": 12,
   "id": "180e3ca8-f10f-4b64-8de8-3ee89c5fd7b6",
   "metadata": {
    "tags": []
   },
   "outputs": [
    {
     "data": {
      "text/html": [
       "<div>\n",
       "<style scoped>\n",
       "    .dataframe tbody tr th:only-of-type {\n",
       "        vertical-align: middle;\n",
       "    }\n",
       "\n",
       "    .dataframe tbody tr th {\n",
       "        vertical-align: top;\n",
       "    }\n",
       "\n",
       "    .dataframe thead th {\n",
       "        text-align: right;\n",
       "    }\n",
       "</style>\n",
       "<table border=\"1\" class=\"dataframe\">\n",
       "  <thead>\n",
       "    <tr style=\"text-align: right;\">\n",
       "      <th></th>\n",
       "      <th>code</th>\n",
       "      <th>species</th>\n",
       "      <th>island</th>\n",
       "      <th>bill_length_mm</th>\n",
       "      <th>bill_depth_mm</th>\n",
       "      <th>sex</th>\n",
       "      <th>body_mass_kg</th>\n",
       "    </tr>\n",
       "  </thead>\n",
       "  <tbody>\n",
       "    <tr>\n",
       "      <th>0</th>\n",
       "      <td>171</td>\n",
       "      <td>Adelie</td>\n",
       "      <td>Torgersen</td>\n",
       "      <td>39.1</td>\n",
       "      <td>18.7</td>\n",
       "      <td>Male</td>\n",
       "      <td>3.75</td>\n",
       "    </tr>\n",
       "    <tr>\n",
       "      <th>1</th>\n",
       "      <td>586</td>\n",
       "      <td>Adelie</td>\n",
       "      <td>Torgersen</td>\n",
       "      <td>39.5</td>\n",
       "      <td>17.4</td>\n",
       "      <td>Female</td>\n",
       "      <td>3.80</td>\n",
       "    </tr>\n",
       "    <tr>\n",
       "      <th>2</th>\n",
       "      <td>804</td>\n",
       "      <td>Adelie</td>\n",
       "      <td>Torgersen</td>\n",
       "      <td>40.3</td>\n",
       "      <td>18.0</td>\n",
       "      <td>Female</td>\n",
       "      <td>3.25</td>\n",
       "    </tr>\n",
       "    <tr>\n",
       "      <th>3</th>\n",
       "      <td>521</td>\n",
       "      <td>Adelie</td>\n",
       "      <td>Torgersen</td>\n",
       "      <td>38.3</td>\n",
       "      <td>NaN</td>\n",
       "      <td>NaN</td>\n",
       "      <td>NaN</td>\n",
       "    </tr>\n",
       "    <tr>\n",
       "      <th>4</th>\n",
       "      <td>143</td>\n",
       "      <td>Adelie</td>\n",
       "      <td>Torgersen</td>\n",
       "      <td>36.7</td>\n",
       "      <td>19.3</td>\n",
       "      <td>Female</td>\n",
       "      <td>3.45</td>\n",
       "    </tr>\n",
       "  </tbody>\n",
       "</table>\n",
       "</div>"
      ],
      "text/plain": [
       "   code species     island  bill_length_mm  bill_depth_mm     sex  \\\n",
       "0   171  Adelie  Torgersen            39.1           18.7    Male   \n",
       "1   586  Adelie  Torgersen            39.5           17.4  Female   \n",
       "2   804  Adelie  Torgersen            40.3           18.0  Female   \n",
       "3   521  Adelie  Torgersen            38.3            NaN     NaN   \n",
       "4   143  Adelie  Torgersen            36.7           19.3  Female   \n",
       "\n",
       "   body_mass_kg  \n",
       "0          3.75  \n",
       "1          3.80  \n",
       "2          3.25  \n",
       "3           NaN  \n",
       "4          3.45  "
      ]
     },
     "execution_count": 12,
     "metadata": {},
     "output_type": "execute_result"
    }
   ],
   "source": [
    "# update NA to 38.3\n",
    "penguins.at[3,'bill_length_mm'] = 38.3\n",
    "\n",
    "# check it was updated\n",
    "penguins.head()"
   ]
  },
  {
   "cell_type": "code",
   "execution_count": 13,
   "id": "ea723c89-4f7c-4f65-93e6-f943cbc9d2fe",
   "metadata": {
    "tags": []
   },
   "outputs": [
    {
     "name": "stdout",
     "output_type": "stream",
     "text": [
      "10\n"
     ]
    }
   ],
   "source": [
    "#Q: what happens if you reverse the addingment in .at?\n",
    "a = 10\n",
    "b = 20\n",
    "\n",
    "b = a\n",
    "print(b)"
   ]
  },
  {
   "cell_type": "markdown",
   "id": "64bcd4b9-a4ec-4a27-b46f-383bc1e72372",
   "metadata": {},
   "source": [
    "\n",
    "\n",
    "## Update multiple values in a column\n",
    "\n",
    "### By condition\n",
    "\n",
    "Think of `case_when` in R.\n",
    "\n",
    "Example\n",
    "\n",
    "We want to classify penguins such that:\n",
    "\n",
    "- small penguins: body mass < 3kg\n",
    "- medium penguins: 3kg <= body mass < 5kg\n",
    "- large penguins: body mass > 5kg\n",
    "\n",
    "One way to do this is using `numpy.select()` to create a new column"
   ]
  },
  {
   "cell_type": "code",
   "execution_count": 17,
   "id": "de2ceca1-9103-4920-b446-2ad4b7b12ba4",
   "metadata": {
    "tags": []
   },
   "outputs": [
    {
     "data": {
      "text/html": [
       "<div>\n",
       "<style scoped>\n",
       "    .dataframe tbody tr th:only-of-type {\n",
       "        vertical-align: middle;\n",
       "    }\n",
       "\n",
       "    .dataframe tbody tr th {\n",
       "        vertical-align: top;\n",
       "    }\n",
       "\n",
       "    .dataframe thead th {\n",
       "        text-align: right;\n",
       "    }\n",
       "</style>\n",
       "<table border=\"1\" class=\"dataframe\">\n",
       "  <thead>\n",
       "    <tr style=\"text-align: right;\">\n",
       "      <th></th>\n",
       "      <th>code</th>\n",
       "      <th>species</th>\n",
       "      <th>island</th>\n",
       "      <th>bill_length_mm</th>\n",
       "      <th>bill_depth_mm</th>\n",
       "      <th>sex</th>\n",
       "      <th>body_mass_kg</th>\n",
       "      <th>size</th>\n",
       "    </tr>\n",
       "  </thead>\n",
       "  <tbody>\n",
       "    <tr>\n",
       "      <th>0</th>\n",
       "      <td>171</td>\n",
       "      <td>Adelie</td>\n",
       "      <td>Torgersen</td>\n",
       "      <td>39.1</td>\n",
       "      <td>18.7</td>\n",
       "      <td>Male</td>\n",
       "      <td>3.75</td>\n",
       "      <td>medium</td>\n",
       "    </tr>\n",
       "    <tr>\n",
       "      <th>1</th>\n",
       "      <td>586</td>\n",
       "      <td>Adelie</td>\n",
       "      <td>Torgersen</td>\n",
       "      <td>39.5</td>\n",
       "      <td>17.4</td>\n",
       "      <td>Female</td>\n",
       "      <td>3.80</td>\n",
       "      <td>medium</td>\n",
       "    </tr>\n",
       "    <tr>\n",
       "      <th>2</th>\n",
       "      <td>804</td>\n",
       "      <td>Adelie</td>\n",
       "      <td>Torgersen</td>\n",
       "      <td>40.3</td>\n",
       "      <td>18.0</td>\n",
       "      <td>Female</td>\n",
       "      <td>3.25</td>\n",
       "      <td>medium</td>\n",
       "    </tr>\n",
       "    <tr>\n",
       "      <th>3</th>\n",
       "      <td>521</td>\n",
       "      <td>Adelie</td>\n",
       "      <td>Torgersen</td>\n",
       "      <td>38.3</td>\n",
       "      <td>NaN</td>\n",
       "      <td>NaN</td>\n",
       "      <td>NaN</td>\n",
       "      <td>nan</td>\n",
       "    </tr>\n",
       "    <tr>\n",
       "      <th>4</th>\n",
       "      <td>143</td>\n",
       "      <td>Adelie</td>\n",
       "      <td>Torgersen</td>\n",
       "      <td>36.7</td>\n",
       "      <td>19.3</td>\n",
       "      <td>Female</td>\n",
       "      <td>3.45</td>\n",
       "      <td>medium</td>\n",
       "    </tr>\n",
       "  </tbody>\n",
       "</table>\n",
       "</div>"
      ],
      "text/plain": [
       "   code species     island  bill_length_mm  bill_depth_mm     sex  \\\n",
       "0   171  Adelie  Torgersen            39.1           18.7    Male   \n",
       "1   586  Adelie  Torgersen            39.5           17.4  Female   \n",
       "2   804  Adelie  Torgersen            40.3           18.0  Female   \n",
       "3   521  Adelie  Torgersen            38.3            NaN     NaN   \n",
       "4   143  Adelie  Torgersen            36.7           19.3  Female   \n",
       "\n",
       "   body_mass_kg    size  \n",
       "0          3.75  medium  \n",
       "1          3.80  medium  \n",
       "2          3.25  medium  \n",
       "3           NaN     nan  \n",
       "4          3.45  medium  "
      ]
     },
     "execution_count": 17,
     "metadata": {},
     "output_type": "execute_result"
    }
   ],
   "source": [
    "#create a list with the conditions\n",
    "conditions = [penguins.body_mass_kg < 3, \n",
    "              (3 <= penguins.body_mass_kg) & (penguins.body_mass_kg < 5),\n",
    "              5 <= penguins.body_mass_kg]\n",
    "\n",
    "# create a list with the choices\n",
    "choices = [\"small\",\n",
    "           \"medium\",\n",
    "           \"large\"]\n",
    "\n",
    "# add the selections using np.select\n",
    "# default = value for anything that falls outside conditions\n",
    "penguins['size'] = np.select(conditions, choices, default=np.nan)\n",
    "\n",
    "penguins.head()"
   ]
  },
  {
   "cell_type": "markdown",
   "id": "f9409492-de46-4e11-8281-07789e4b2e0c",
   "metadata": {},
   "source": [
    "### Update a column by selecting values\n",
    "\n",
    "Sometimes we just want to update a few values that satify a condition.\n",
    "We can do this by selecting data using `loc` (if selecting by label) and then assigning a new value\n",
    "```\n",
    "# modifies data in place\n",
    "df.loc[row_selection, col_name] = new_values\n",
    "```\n",
    "Where\n",
    "- `row_selection` = rows we want to update,\n",
    "- `col_name` = a single column name, and \n",
    "- `new_values` = the new value or values we want to update. If using multiple values, make sure they are the same length as the data frame.\n",
    "\n",
    "Example\n",
    "\n",
    "We want to update the \"Male\" value in the sex column to \"M\""
   ]
  },
  {
   "cell_type": "code",
   "execution_count": 20,
   "id": "d03754d6-e6a9-4b7a-8a09-3831d484a1f9",
   "metadata": {
    "tags": []
   },
   "outputs": [],
   "source": [
    "penguins.loc[penguins.sex == 'Male', 'sex'] = 'M'"
   ]
  },
  {
   "cell_type": "code",
   "execution_count": 22,
   "id": "193381e2-1cbd-4a24-86a2-acb8efdf4bb1",
   "metadata": {
    "tags": []
   },
   "outputs": [
    {
     "data": {
      "text/plain": [
       "array(['M', 'Female', nan], dtype=object)"
      ]
     },
     "execution_count": 22,
     "metadata": {},
     "output_type": "execute_result"
    }
   ],
   "source": [
    "penguins.head()\n",
    "#or\n",
    "penguins.sex.unique()"
   ]
  },
  {
   "cell_type": "markdown",
   "id": "1fdc99d5-1b97-4011-a9c7-be21fbdac2eb",
   "metadata": {},
   "source": [
    "## `SettingWithCopyWarning`\n",
    "\n",
    "Suppose we want to update the \"Female\" value in the sex column to \"F\". This is an example of something we might try, but won't work:"
   ]
  },
  {
   "cell_type": "code",
   "execution_count": 23,
   "id": "79c56c6a-5ffd-4e02-83e8-1b717023cd1f",
   "metadata": {
    "tags": []
   },
   "outputs": [
    {
     "name": "stderr",
     "output_type": "stream",
     "text": [
      "/tmp/ipykernel_9244/2057910192.py:1: SettingWithCopyWarning: \n",
      "A value is trying to be set on a copy of a slice from a DataFrame.\n",
      "Try using .loc[row_indexer,col_indexer] = value instead\n",
      "\n",
      "See the caveats in the documentation: https://pandas.pydata.org/pandas-docs/stable/user_guide/indexing.html#returning-a-view-versus-a-copy\n",
      "  penguins[penguins.sex == 'Female']['sex'] = 'F'\n"
     ]
    }
   ],
   "source": [
    "penguins[penguins.sex == 'Female']['sex'] = 'F'"
   ]
  },
  {
   "cell_type": "markdown",
   "id": "b7f27ad4-70c0-43f8-823a-434154f209b8",
   "metadata": {},
   "source": [
    "When we select data with **chained indexing** `[][]` instead of `loc` we get this warning. `pandas` is trying to alert us that our code is ambiguous and there might be a bug\n",
    "\n",
    "In this case, we did not update the penguins data frame:"
   ]
  },
  {
   "cell_type": "code",
   "execution_count": 24,
   "id": "faca2579-94a5-40aa-bd4d-cc140c58d11a",
   "metadata": {
    "tags": []
   },
   "outputs": [
    {
     "data": {
      "text/html": [
       "<div>\n",
       "<style scoped>\n",
       "    .dataframe tbody tr th:only-of-type {\n",
       "        vertical-align: middle;\n",
       "    }\n",
       "\n",
       "    .dataframe tbody tr th {\n",
       "        vertical-align: top;\n",
       "    }\n",
       "\n",
       "    .dataframe thead th {\n",
       "        text-align: right;\n",
       "    }\n",
       "</style>\n",
       "<table border=\"1\" class=\"dataframe\">\n",
       "  <thead>\n",
       "    <tr style=\"text-align: right;\">\n",
       "      <th></th>\n",
       "      <th>code</th>\n",
       "      <th>species</th>\n",
       "      <th>island</th>\n",
       "      <th>bill_length_mm</th>\n",
       "      <th>bill_depth_mm</th>\n",
       "      <th>sex</th>\n",
       "      <th>body_mass_kg</th>\n",
       "      <th>size</th>\n",
       "    </tr>\n",
       "  </thead>\n",
       "  <tbody>\n",
       "    <tr>\n",
       "      <th>0</th>\n",
       "      <td>171</td>\n",
       "      <td>Adelie</td>\n",
       "      <td>Torgersen</td>\n",
       "      <td>39.1</td>\n",
       "      <td>18.7</td>\n",
       "      <td>M</td>\n",
       "      <td>3.75</td>\n",
       "      <td>medium</td>\n",
       "    </tr>\n",
       "    <tr>\n",
       "      <th>1</th>\n",
       "      <td>586</td>\n",
       "      <td>Adelie</td>\n",
       "      <td>Torgersen</td>\n",
       "      <td>39.5</td>\n",
       "      <td>17.4</td>\n",
       "      <td>Female</td>\n",
       "      <td>3.80</td>\n",
       "      <td>medium</td>\n",
       "    </tr>\n",
       "    <tr>\n",
       "      <th>2</th>\n",
       "      <td>804</td>\n",
       "      <td>Adelie</td>\n",
       "      <td>Torgersen</td>\n",
       "      <td>40.3</td>\n",
       "      <td>18.0</td>\n",
       "      <td>Female</td>\n",
       "      <td>3.25</td>\n",
       "      <td>medium</td>\n",
       "    </tr>\n",
       "    <tr>\n",
       "      <th>3</th>\n",
       "      <td>521</td>\n",
       "      <td>Adelie</td>\n",
       "      <td>Torgersen</td>\n",
       "      <td>38.3</td>\n",
       "      <td>NaN</td>\n",
       "      <td>NaN</td>\n",
       "      <td>NaN</td>\n",
       "      <td>nan</td>\n",
       "    </tr>\n",
       "    <tr>\n",
       "      <th>4</th>\n",
       "      <td>143</td>\n",
       "      <td>Adelie</td>\n",
       "      <td>Torgersen</td>\n",
       "      <td>36.7</td>\n",
       "      <td>19.3</td>\n",
       "      <td>Female</td>\n",
       "      <td>3.45</td>\n",
       "      <td>medium</td>\n",
       "    </tr>\n",
       "  </tbody>\n",
       "</table>\n",
       "</div>"
      ],
      "text/plain": [
       "   code species     island  bill_length_mm  bill_depth_mm     sex  \\\n",
       "0   171  Adelie  Torgersen            39.1           18.7       M   \n",
       "1   586  Adelie  Torgersen            39.5           17.4  Female   \n",
       "2   804  Adelie  Torgersen            40.3           18.0  Female   \n",
       "3   521  Adelie  Torgersen            38.3            NaN     NaN   \n",
       "4   143  Adelie  Torgersen            36.7           19.3  Female   \n",
       "\n",
       "   body_mass_kg    size  \n",
       "0          3.75  medium  \n",
       "1          3.80  medium  \n",
       "2          3.25  medium  \n",
       "3           NaN     nan  \n",
       "4          3.45  medium  "
      ]
     },
     "execution_count": 24,
     "metadata": {},
     "output_type": "execute_result"
    }
   ],
   "source": [
    "penguins.head()"
   ]
  },
  {
   "cell_type": "markdown",
   "id": "428889a5-e770-4a6b-8a2b-65413e34091e",
   "metadata": {},
   "source": [
    "## Views and Copies\n",
    "\n",
    "Some `pandas` operations return a view to your data, while others return a copy to your data.\n",
    "\n",
    "- **Views** are actual subsets of the original data, when we update them, we are modifying the original data frame.\n",
    "\n",
    "- **copies** are unique objects, independent of our original data frames. When we update a copy we are not modifying the original data frame.\n",
    "\n",
    "### Another `SettingWithCopyWarning`\n",
    "\n",
    "Another common situation when this warning comes up is when we try updating a subset of our data frame already stored in a variable\n",
    "\n",
    "Example\n",
    "\n",
    "We only want datafrom biscoe island and, after doing some analysis, we want to add a new column to it."
   ]
  },
  {
   "cell_type": "code",
   "execution_count": 26,
   "id": "ca6f878d-9a26-4f20-8d88-1fc1b387489f",
   "metadata": {
    "tags": []
   },
   "outputs": [
    {
     "name": "stderr",
     "output_type": "stream",
     "text": [
      "/tmp/ipykernel_9244/1247240670.py:7: SettingWithCopyWarning: \n",
      "A value is trying to be set on a copy of a slice from a DataFrame.\n",
      "Try using .loc[row_indexer,col_indexer] = value instead\n",
      "\n",
      "See the caveats in the documentation: https://pandas.pydata.org/pandas-docs/stable/user_guide/indexing.html#returning-a-view-versus-a-copy\n",
      "  biscoe['sample_col'] = 100\n"
     ]
    }
   ],
   "source": [
    "# select penguins from Biscoe island\n",
    "biscoe = penguins[penguins.island=='Biscoe']\n",
    "\n",
    "# 50 lines of code here\n",
    "\n",
    "# add a column, we get a warning\n",
    "biscoe['sample_col'] = 100"
   ]
  },
  {
   "cell_type": "markdown",
   "id": "99097e9a-d69b-49df-ba24-48eac1aee021",
   "metadata": {},
   "source": [
    "Essentially what we did was\n",
    "```\n",
    "penguins[pengiuns.island=='Biscoe']['sample_column'] = 100\n",
    "```"
   ]
  },
  {
   "cell_type": "markdown",
   "id": "0efc6a28-21b6-4f7d-b679-8186bba3abb2",
   "metadata": {},
   "source": [
    "To fix this we can **take control of the copy-view situation ane explicitely ask for a copy of the dataset when subsetting the data.** Use the `copy()` method for this"
   ]
  },
  {
   "cell_type": "code",
   "execution_count": 28,
   "id": "8ac4e47c-9959-45e7-9b60-bb47c42bc226",
   "metadata": {
    "tags": []
   },
   "outputs": [],
   "source": [
    "biscoe = penguins[penguins.island=='Biscoe'].copy()\n",
    "\n",
    "biscoe['sample_col'] = 100"
   ]
  },
  {
   "cell_type": "code",
   "execution_count": 29,
   "id": "5e5dbda7-f0b5-42bd-902f-9eee11b7401f",
   "metadata": {
    "tags": []
   },
   "outputs": [
    {
     "data": {
      "text/html": [
       "<div>\n",
       "<style scoped>\n",
       "    .dataframe tbody tr th:only-of-type {\n",
       "        vertical-align: middle;\n",
       "    }\n",
       "\n",
       "    .dataframe tbody tr th {\n",
       "        vertical-align: top;\n",
       "    }\n",
       "\n",
       "    .dataframe thead th {\n",
       "        text-align: right;\n",
       "    }\n",
       "</style>\n",
       "<table border=\"1\" class=\"dataframe\">\n",
       "  <thead>\n",
       "    <tr style=\"text-align: right;\">\n",
       "      <th></th>\n",
       "      <th>code</th>\n",
       "      <th>species</th>\n",
       "      <th>island</th>\n",
       "      <th>bill_length_mm</th>\n",
       "      <th>bill_depth_mm</th>\n",
       "      <th>sex</th>\n",
       "      <th>body_mass_kg</th>\n",
       "      <th>size</th>\n",
       "    </tr>\n",
       "  </thead>\n",
       "  <tbody>\n",
       "    <tr>\n",
       "      <th>0</th>\n",
       "      <td>171</td>\n",
       "      <td>Adelie</td>\n",
       "      <td>Torgersen</td>\n",
       "      <td>39.1</td>\n",
       "      <td>18.7</td>\n",
       "      <td>M</td>\n",
       "      <td>3.75</td>\n",
       "      <td>medium</td>\n",
       "    </tr>\n",
       "    <tr>\n",
       "      <th>1</th>\n",
       "      <td>586</td>\n",
       "      <td>Adelie</td>\n",
       "      <td>Torgersen</td>\n",
       "      <td>39.5</td>\n",
       "      <td>17.4</td>\n",
       "      <td>Female</td>\n",
       "      <td>3.80</td>\n",
       "      <td>medium</td>\n",
       "    </tr>\n",
       "    <tr>\n",
       "      <th>2</th>\n",
       "      <td>804</td>\n",
       "      <td>Adelie</td>\n",
       "      <td>Torgersen</td>\n",
       "      <td>40.3</td>\n",
       "      <td>18.0</td>\n",
       "      <td>Female</td>\n",
       "      <td>3.25</td>\n",
       "      <td>medium</td>\n",
       "    </tr>\n",
       "    <tr>\n",
       "      <th>3</th>\n",
       "      <td>521</td>\n",
       "      <td>Adelie</td>\n",
       "      <td>Torgersen</td>\n",
       "      <td>38.3</td>\n",
       "      <td>NaN</td>\n",
       "      <td>NaN</td>\n",
       "      <td>NaN</td>\n",
       "      <td>nan</td>\n",
       "    </tr>\n",
       "    <tr>\n",
       "      <th>4</th>\n",
       "      <td>143</td>\n",
       "      <td>Adelie</td>\n",
       "      <td>Torgersen</td>\n",
       "      <td>36.7</td>\n",
       "      <td>19.3</td>\n",
       "      <td>Female</td>\n",
       "      <td>3.45</td>\n",
       "      <td>medium</td>\n",
       "    </tr>\n",
       "  </tbody>\n",
       "</table>\n",
       "</div>"
      ],
      "text/plain": [
       "   code species     island  bill_length_mm  bill_depth_mm     sex  \\\n",
       "0   171  Adelie  Torgersen            39.1           18.7       M   \n",
       "1   586  Adelie  Torgersen            39.5           17.4  Female   \n",
       "2   804  Adelie  Torgersen            40.3           18.0  Female   \n",
       "3   521  Adelie  Torgersen            38.3            NaN     NaN   \n",
       "4   143  Adelie  Torgersen            36.7           19.3  Female   \n",
       "\n",
       "   body_mass_kg    size  \n",
       "0          3.75  medium  \n",
       "1          3.80  medium  \n",
       "2          3.25  medium  \n",
       "3           NaN     nan  \n",
       "4          3.45  medium  "
      ]
     },
     "execution_count": 29,
     "metadata": {},
     "output_type": "execute_result"
    }
   ],
   "source": [
    "penguins.head()"
   ]
  },
  {
   "cell_type": "code",
   "execution_count": null,
   "id": "45716de6-1164-413d-8c3a-a667a66656b4",
   "metadata": {},
   "outputs": [],
   "source": []
  }
 ],
 "metadata": {
  "kernelspec": {
   "display_name": "Anaconda 3 (Base)",
   "language": "python",
   "name": "base"
  },
  "language_info": {
   "codemirror_mode": {
    "name": "ipython",
    "version": 3
   },
   "file_extension": ".py",
   "mimetype": "text/x-python",
   "name": "python",
   "nbconvert_exporter": "python",
   "pygments_lexer": "ipython3",
   "version": "3.9.13"
  }
 },
 "nbformat": 4,
 "nbformat_minor": 5
}
